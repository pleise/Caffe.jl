{
 "cells": [
  {
   "cell_type": "markdown",
   "metadata": {},
   "source": [
    "# MNIST Example"
   ]
  },
  {
   "cell_type": "code",
   "execution_count": 1,
   "metadata": {
    "collapsed": false
   },
   "outputs": [],
   "source": [
    "# Include the module\n",
    "using Caffe"
   ]
  },
  {
   "cell_type": "code",
   "execution_count": null,
   "metadata": {
    "collapsed": true
   },
   "outputs": [],
   "source": [
    "# Go to the mnist example folder of caffe and download the mnist data like in the caffe example\n",
    "cd(\"/path/to/caffe/examples/mnist\")\n",
    "pwd()"
   ]
  },
  {
   "cell_type": "code",
   "execution_count": 3,
   "metadata": {
    "collapsed": false
   },
   "outputs": [
    {
     "data": {
      "text/plain": [
       "Caffe.NeuralNet(\"LeNet\",Caffe.AbstractLayer[])"
      ]
     },
     "execution_count": 3,
     "metadata": {},
     "output_type": "execute_result"
    }
   ],
   "source": [
    "# Define a Neural Network object with the name LeNet\n",
    "n=Net(name=\"LeNet\")"
   ]
  },
  {
   "cell_type": "code",
   "execution_count": 4,
   "metadata": {
    "collapsed": false
   },
   "outputs": [
    {
     "data": {
      "text/plain": [
       "Caffe.CaffeSGD(0.01,0.9,0.0005,\"inv\",0.0001,0.75,100,500,100,10000,5000,\"lenet\",\"GPU\")"
      ]
     },
     "execution_count": 4,
     "metadata": {},
     "output_type": "execute_result"
    }
   ],
   "source": [
    "# Define the solver object\n",
    "s=CaffeSGD(base_lr=0.01, momentum=0.9, weight_decay=0.0005, lr_policy=\"inv\", \n",
    "gamma=0.0001,  power=0.75, test_iter=100, test_interval=500, display=100, max_iter=10000, \n",
    "snapshot=5000, snapshot_prefix=\"lenet\", solver_mode=\"GPU\")"
   ]
  },
  {
   "cell_type": "code",
   "execution_count": 5,
   "metadata": {
    "collapsed": false
   },
   "outputs": [
    {
     "data": {
      "text/plain": [
       "11-element Array{Caffe.AbstractLayer,1}:\n",
       " Caffe.DataBaseLayer(\"mnist\",ASCIIString[\"data\",\"label\"],ASCIIString[\"mnist_train_lmdb\"],64,0,\"LMDB\",\"TRAIN\",0.00390625)\n",
       " Caffe.DataBaseLayer(\"mnist2\",ASCIIString[\"data\",\"label\"],ASCIIString[\"mnist_test_lmdb\"],100,0,\"LMDB\",\"TEST\",0.00390625)\n",
       " Caffe.ConvLayer(\"conv1\",\"data\",\"conv1\",true,1,0,2,0,20,5,0,0,1,0,0,0,0,0,\"xavier\",0.0,\"constant\",0.0,\"\")               \n",
       " Caffe.PoolingLayer(\"pool1\",\"conv1\",\"pool1\",2,0,0,\"MAX\",0,0,0,2,0,0,\"\")                                                 \n",
       " Caffe.ConvLayer(\"conv2\",\"pool1\",\"conv2\",true,1,0,2,0,50,5,0,0,1,0,0,0,0,0,\"xavier\",0.0,\"constant\",0.0,\"\")              \n",
       " Caffe.PoolingLayer(\"pool2\",\"conv2\",\"pool2\",2,0,0,\"MAX\",0,0,0,2,0,0,\"\")                                                 \n",
       " Caffe.InnerProductLayer(\"ip1\",\"pool2\",\"ip1\",500,true,1,0,2,0,\"xavier\",0.0,\"constant\",0.0,\"\")                           \n",
       " Caffe.ReLULayer(\"relu1\",\"ip1\",\"ip1\",\"\")                                                                                \n",
       " Caffe.InnerProductLayer(\"ip2\",\"ip1\",\"ip2\",10,true,1,0,2,0,\"xavier\",0.0,\"constant\",0.0,\"\")                              \n",
       " Caffe.AccuracyLayer(\"accuracy\",ASCIIString[\"ip2\",\"label\"],ASCIIString[\"accuracy\"],\"TEST\")                              \n",
       " Caffe.SoftmaxWithLossLayer(\"loss\",ASCIIString[\"ip2\",\"label\"],ASCIIString[\"loss\"],\"\")                                   "
      ]
     },
     "execution_count": 5,
     "metadata": {},
     "output_type": "execute_result"
    }
   ],
   "source": [
    "# Define the layers and add them to the predefined neural network object n\n",
    "\n",
    "addDataBaseLayer!(n, name=\"mnist\", top=[\"data\", \"label\"], \n",
    "        source=[\"mnist_train_lmdb\"], batch_size=64, phase=\"TRAIN\", \n",
    "        backend=\"LMDB\", scale=0.00390625)\n",
    "addDataBaseLayer!(n, name=\"mnist2\", top=[\"data\", \"label\"], \n",
    "        source=[\"mnist_test_lmdb\"], batch_size=100, phase=\"TEST\", \n",
    "        backend=\"LMDB\", scale=0.00390625)\n",
    "addConvLayer!(n, name=\"conv1\", topLayer=\"conv1\", bottomLayer=\"data\", lr_mult_filter=1, decay_mult_filter=0,\n",
    "    lr_mult_bias=2, decay_mult_bias=0, num_output=20, kernel=5, stride=1, weight_filler_type=\"xavier\",  bias_filler_type=\"constant\", \n",
    "    bias_filler_value=0)\n",
    "addPoolingLayer!(n, name=\"pool1\", bottom=\"conv1\", top=\"pool1\", kernel=2, pool_type=\"MAX\", \n",
    "    strid=2)\n",
    "addConvLayer!(n, name=\"conv2\", topLayer=\"conv2\", bottomLayer=\"pool1\", lr_mult_filter=1, decay_mult_filter=0,\n",
    "    lr_mult_bias=2, decay_mult_bias=0, num_output=50, kernel=5, stride=1, weight_filler_type=\"xavier\",  bias_filler_type=\"constant\", \n",
    "    bias_filler_value=0)\n",
    "addPoolingLayer!(n, name=\"pool2\", bottom=\"conv2\", top=\"pool2\", kernel=2, pool_type=\"MAX\", \n",
    "    strid=2)\n",
    "addIPLayer!(n, name=\"ip1\", topLayer=\"ip1\", bottomLayer=\"pool2\", bias_term=true, lr_mult_filter=1, decay_mult_filter=0,\n",
    "lr_mult_bias=2, decay_mult_bias=0, num_output=500, weight_filler_type=\"xavier\", bias_filler_type=\"constant\", \n",
    "    bias_filler_value=0)\n",
    "addReLULayer!(n, name=\"relu1\", bottomLayer=\"ip1\", topLayer=\"ip1\")\n",
    "addIPLayer!(n, name=\"ip2\", topLayer=\"ip2\", bottomLayer=\"ip1\", bias_term=true, lr_mult_filter=1, decay_mult_filter=0,\n",
    "lr_mult_bias=2, decay_mult_bias=0, num_output=10, weight_filler_type=\"xavier\", bias_filler_type=\"constant\", \n",
    "    bias_filler_value=0)\n",
    "addAccuracyLayer!(n ,name=\"accuracy\", bottomLayer=[\"ip2\", \"label\"], topLayer=[\"accuracy\"], phase=\"TEST\")\n",
    "addSoftmaxWithLossLayer!(n, name=\"loss\", bottomLayer=[\"ip2\", \"label\"], topLayer=[\"loss\"])\n",
    "\n",
    "\n",
    "\n",
    "\n",
    "\n"
   ]
  },
  {
   "cell_type": "code",
   "execution_count": null,
   "metadata": {
    "collapsed": true
   },
   "outputs": [],
   "source": [
    "# Solve the network with the solver\n",
    "solve(s, n)"
   ]
  },
  {
   "cell_type": "code",
   "execution_count": null,
   "metadata": {
    "collapsed": true
   },
   "outputs": [],
   "source": [
    "# Solve the network and save the output in a logfile\n",
    "solve(s, n, \"/path/to/out.log\")"
   ]
  },
  {
   "cell_type": "code",
   "execution_count": null,
   "metadata": {
    "collapsed": true
   },
   "outputs": [],
   "source": []
  }
 ],
 "metadata": {
  "kernelspec": {
   "display_name": "Julia 0.4.6",
   "language": "julia",
   "name": "julia-0.4"
  },
  "language_info": {
   "file_extension": ".jl",
   "mimetype": "application/julia",
   "name": "julia",
   "version": "0.4.6"
  }
 },
 "nbformat": 4,
 "nbformat_minor": 0
}
